{
 "metadata": {
  "language_info": {
   "codemirror_mode": {
    "name": "ipython",
    "version": 3
   },
   "file_extension": ".py",
   "mimetype": "text/x-python",
   "name": "python",
   "nbconvert_exporter": "python",
   "pygments_lexer": "ipython3",
   "version": 3
  },
  "orig_nbformat": 2,
  "kernelspec": {
   "name": "python_defaultSpec_1597131721643",
   "display_name": "Python 3.7.7 64-bit ('tf21': conda)"
  }
 },
 "nbformat": 4,
 "nbformat_minor": 2,
 "cells": [
  {
   "cell_type": "code",
   "execution_count": null,
   "metadata": {},
   "outputs": [],
   "source": [
    "# Importing modules\n",
    "import numpy as np\n",
    "from data_loader import load_npy\n",
    "import matplotlib.pyplot as plt\n",
    "from pathlib import Path\n",
    "\n",
    "# Local Modules\n",
    "import augmentation\n",
    "from preprocessing import get_dataset"
   ]
  },
  {
   "cell_type": "code",
   "execution_count": null,
   "metadata": {},
   "outputs": [],
   "source": [
    "DATASET_PATH = Path(\"C:/Users/josep/Documents/work/crate_classifier_dev/images/images_1\")"
   ]
  },
  {
   "cell_type": "code",
   "execution_count": null,
   "metadata": {
    "tags": []
   },
   "outputs": [],
   "source": [
    "img_arr, ann_arr = get_dataset(DATASET_PATH, num_exp=3)"
   ]
  },
  {
   "cell_type": "code",
   "execution_count": null,
   "metadata": {
    "tags": []
   },
   "outputs": [],
   "source": [
    "def print_sample(img_arr, ann_arr, sample_size):\n",
    "    index = -1\n",
    "    j = 1\n",
    "    plt.figure(figsize=(12,3*sample_size))\n",
    "    for i in range(sample_size):\n",
    "        plt.subplot(sample_size,4,j)\n",
    "        plt.imshow(img_arr[i,:,:,0:3]/255)\n",
    "        plt.subplot(sample_size,4,j+1)\n",
    "        plt.imshow(img_arr[i,:,:,3:6]/255)\n",
    "        plt.subplot(sample_size,4,j+2)\n",
    "        plt.imshow(img_arr[i,:,:,6:9]/255)\n",
    "        plt.subplot(sample_size,4,j+3)\n",
    "        plt.imshow(ann_arr[i,:,:,0])\n",
    "        j += 4\n",
    "    plt.show()"
   ]
  },
  {
   "cell_type": "code",
   "execution_count": null,
   "metadata": {},
   "outputs": [],
   "source": [
    "print_sample(img_arr, ann_arr, sample_size=2)"
   ]
  },
  {
   "cell_type": "code",
   "execution_count": null,
   "metadata": {
    "tags": []
   },
   "outputs": [],
   "source": [
    "print(f\"Img array shape: {img_arr.shape}\")\n",
    "print(f\"Ann array shape: {ann_arr.shape}\")"
   ]
  },
  {
   "cell_type": "code",
   "execution_count": null,
   "metadata": {
    "tags": []
   },
   "outputs": [],
   "source": [
    "aug_img = augmentation.generate_aug(img_arr, 100, 3)\n",
    "aug_ann = augmentation.generate_aug(ann_arr, 100, 3)\n"
   ]
  },
  {
   "cell_type": "code",
   "execution_count": null,
   "metadata": {
    "tags": []
   },
   "outputs": [],
   "source": [
    "print_sample(aug_img, aug_ann, 20)"
   ]
  },
  {
   "cell_type": "code",
   "execution_count": null,
   "metadata": {},
   "outputs": [],
   "source": []
  },
  {
   "cell_type": "code",
   "execution_count": null,
   "metadata": {},
   "outputs": [],
   "source": []
  }
 ]
}