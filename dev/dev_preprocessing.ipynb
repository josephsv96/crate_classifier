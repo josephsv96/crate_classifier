{
 "metadata": {
  "language_info": {
   "codemirror_mode": {
    "name": "ipython",
    "version": 3
   },
   "file_extension": ".py",
   "mimetype": "text/x-python",
   "name": "python",
   "nbconvert_exporter": "python",
   "pygments_lexer": "ipython3",
   "version": "3.7.7-final"
  },
  "orig_nbformat": 2,
  "kernelspec": {
   "name": "python_defaultSpec_1599484198269",
   "display_name": "Python 3.7.7 64-bit ('tf21': conda)"
  }
 },
 "nbformat": 4,
 "nbformat_minor": 2,
 "cells": [
  {
   "cell_type": "code",
   "execution_count": null,
   "metadata": {},
   "outputs": [],
   "source": [
    "# from preprocessing_dev import edge_detection"
   ]
  },
  {
   "cell_type": "code",
   "execution_count": null,
   "metadata": {},
   "outputs": [],
   "source": [
    "import numpy as np\n",
    "from data_loader import load_npy\n",
    "import matplotlib.pyplot as plt\n",
    "from pathlib import Path\n",
    "import cv2"
   ]
  },
  {
   "cell_type": "code",
   "execution_count": null,
   "metadata": {},
   "outputs": [],
   "source": [
    "DATASET_PATH = Path(\"C:/Users/josep/Documents/work/crate_classifier_dev/outputs/backup/images_3\")"
   ]
  },
  {
   "cell_type": "code",
   "execution_count": null,
   "metadata": {},
   "outputs": [],
   "source": [
    "images = load_npy(DATASET_PATH / \"images_3_part_1/dataset_images_aug.npy\")\n",
    "annots = load_npy(DATASET_PATH / \"images_3_part_1/dataset_annots_aug.npy\")"
   ]
  },
  {
   "cell_type": "code",
   "execution_count": null,
   "metadata": {},
   "outputs": [],
   "source": [
    "index = 7\n",
    "sample_img = images[index,:,:,3:6]\n",
    "plt.imshow(sample_img/255)\n",
    "plt.show()"
   ]
  },
  {
   "cell_type": "code",
   "execution_count": null,
   "metadata": {
    "tags": []
   },
   "outputs": [],
   "source": [
    "#img_ch = np.expand_dims(sample_img[:,:,0], axis =-1)\n",
    "img_ch = np.uint8(images[:,:,0])"
   ]
  },
  {
   "cell_type": "code",
   "execution_count": null,
   "metadata": {
    "tags": []
   },
   "outputs": [],
   "source": [
    "plt.figure(figsize=(12,12))\n",
    "j = 0\n",
    "edges_arr = []\n",
    "for i in range(9):\n",
    "    plt.subplot(5,4,j+1)\n",
    "    img_ch = np.uint8(images[index,:,:,i])\n",
    "    plt.imshow(img_ch)\n",
    "    plt.colorbar()\n",
    "    plt.subplot(5,4,j+2)\n",
    "    edges = cv2.Canny(img_ch, 44, 89) # sigma 0.33\n",
    "    edges_arr.append(edges)\n",
    "    plt.imshow(edges)\n",
    "    plt.colorbar()\n",
    "    j += 2\n",
    "\n",
    "plt.subplot(5,4,j+1)\n",
    "sample_img = images[index,:,:,3:6]\n",
    "plt.imshow(sample_img/255)\n",
    "\n",
    "edges_arr = np.asarray(edges_arr)\n",
    "summed = edges_arr.sum(axis=0)/(255*9)  # combining\n",
    "summed = np.where(summed<0.4, 0, summed)     # clipping\n",
    "plt.subplot(5,4,j+2)\n",
    "plt.imshow(summed)\n",
    "plt.colorbar()\n",
    "\n",
    "plt.show()"
   ]
  },
  {
   "cell_type": "code",
   "execution_count": null,
   "metadata": {
    "tags": []
   },
   "outputs": [],
   "source": [
    "edges_arr = np.asarray(edges_arr)\n",
    "summed = edges_arr.sum(axis=0)/(255*9)   # combining\n",
    "summed = np.where(summed<0.4, 0, 1) # clipping"
   ]
  },
  {
   "cell_type": "code",
   "execution_count": null,
   "metadata": {},
   "outputs": [],
   "source": [
    "product = cv2.bitwise_and(sample_img, sample_img, mask= np.uint8(summed))"
   ]
  },
  {
   "cell_type": "code",
   "execution_count": null,
   "metadata": {},
   "outputs": [],
   "source": [
    "scaling = 0.8\n",
    "denom = scaling*255 + 255\n",
    "res = (product*scaling + sample_img)/denom"
   ]
  },
  {
   "cell_type": "code",
   "execution_count": null,
   "metadata": {
    "tags": []
   },
   "outputs": [],
   "source": [
    "plt.imshow(res)\n",
    "plt.colorbar()\n",
    "plt.show()"
   ]
  },
  {
   "cell_type": "code",
   "execution_count": null,
   "metadata": {},
   "outputs": [],
   "source": []
  }
 ]
}