{
 "metadata": {
  "language_info": {
   "codemirror_mode": {
    "name": "ipython",
    "version": 3
   },
   "file_extension": ".py",
   "mimetype": "text/x-python",
   "name": "python",
   "nbconvert_exporter": "python",
   "pygments_lexer": "ipython3",
   "version": "3.7.7-final"
  },
  "orig_nbformat": 2,
  "kernelspec": {
   "name": "python3",
   "display_name": "Python 3.7.7 64-bit ('tf21': conda)",
   "metadata": {
    "interpreter": {
     "hash": "d326e33b618ba746c6f58dad072ad617c39c2b2026e7007fb41a894e901d1b2b"
    }
   }
  }
 },
 "nbformat": 4,
 "nbformat_minor": 2,
 "cells": [
  {
   "source": [
    "\"\"\"\n",
    "# pkg_1\n",
    "- pkg_0 -> pkg_1\n",
    "- Genertes the Dataset for the NN.\n",
    "## Tasks:\n",
    "1. Data Loader\n",
    "- Reads images and annotations from source folder.\n",
    "2. Dataset Check\n",
    "- Checks for missing annotations files.\n",
    "3. Statistics\n",
    "- Finds the distribution of classes by pixel density.\n",
    "4. Augmenter\n",
    "- Genertes augmented images and corressponding annotations.\n",
    "\"\"\"\n"
   ],
   "cell_type": "code",
   "metadata": {},
   "execution_count": null,
   "outputs": []
  },
  {
   "cell_type": "code",
   "execution_count": null,
   "metadata": {},
   "outputs": [],
   "source": [
    "import numpy as np\n",
    "from pathlib import Path\n",
    "\n",
    "# Local Modules\n",
    "from utils import load_json"
   ]
  },
  {
   "cell_type": "code",
   "execution_count": null,
   "metadata": {},
   "outputs": [],
   "source": [
    "def rm_duplicate(seq):\n",
    "    \"\"\"\n",
    "    Remove duplicates from a list preserving order\n",
    "    https://www.peterbe.com/plog/uniqifiers-benchmark\n",
    "    \"\"\"\n",
    "    seen = set()\n",
    "    seen_add = seen.add\n",
    "    return [x for x in seq if not (x in seen or seen_add(x))]"
   ]
  },
  {
   "cell_type": "code",
   "execution_count": null,
   "metadata": {},
   "outputs": [],
   "source": [
    "def run_data_checker(src_dir, num_exp, img_ext=\".bmp\", ann_ext=\".cmp\"):\n",
    "    \"\"\"\n",
    "    Checks if there are missing annotation files in the source folder. \n",
    "    Return pathlib.Path files for images and annotations\n",
    "    WARNING!! DOES NOT CHECK IF ANNOTATIONS ARE CORRECT (by name)\n",
    "    ADD CROSS VALIDATION LATER\n",
    "    \"\"\"\n",
    "    src_path = Path(src_dir)\n",
    "    \n",
    "    # All image and annotation paths\n",
    "    image_paths = list(src_path.glob( \"**/*\" + img_ext) )\n",
    "    annot_paths = list(src_path.glob( \"**/*\" + ann_ext) )\n",
    "\n",
    "    img_nums = rm_duplicate([file.stem.split(\"_\")[1] for file in image_paths])\n",
    "    ann_nums = [file.stem.split(\"_\")[1] for file in annot_paths]\n",
    "\n",
    "    img_dict = dict(enumerate(img_nums))\n",
    "    indices = {v: k for k, v in img_dict.items()}\n",
    "\n",
    "    # Matching \n",
    "    valid_sets = set(img_dict.values()).intersection(ann_nums)\n",
    "    valid_indices = np.sort([indices[value] for value in valid_sets])\n",
    "\n",
    "    # Missing annotations\n",
    "    missing_sets = np.sort(list(set(img_dict.values()).symmetric_difference(ann_nums)))\n",
    "    if missing_sets.size > 0:\n",
    "        print(f\"Missing annotation files: {missing_sets}\")\n",
    "\n",
    "    # Valid paths\n",
    "    valid_image_paths = []\n",
    "    valid_annot_paths = []\n",
    "    for i, index in enumerate(valid_indices):\n",
    "        j =  index * num_exp\n",
    "        valid_annot_paths.append(annot_paths[i])\n",
    "        for k in range(num_exp):\n",
    "            valid_image_paths.append(image_paths[j+k])\n",
    "   \n",
    "    return valid_image_paths, valid_annot_paths"
   ]
  },
  {
   "cell_type": "code",
   "execution_count": null,
   "metadata": {
    "tags": []
   },
   "outputs": [],
   "source": [
    "def main(PKG_1_PARAMS=None):\n",
    "    # Initial Parmeters\n",
    "    if PKG_1_PARAMS is None:\n",
    "        PKG_1_PARAMS = load_json(\"pkg_1_config.json\")\n",
    "    # pkg 1a\n",
    "    img_paths, ann_paths = run_data_checker(PKG_1_PARAMS[\"src_dir\"], PKG_1_PARAMS[\"num_exp\"])\n",
    "\n",
    "    return img_paths, ann_paths"
   ]
  },
  {
   "cell_type": "code",
   "execution_count": null,
   "metadata": {},
   "outputs": [],
   "source": [
    "if __name__ == \"__main__\":\n",
    "    img_paths, ann_paths = main()\n",
    "    print(\"img_paths sample:\\n\", img_paths[:4])\n",
    "    print(\"ann_paths sample:\\n\", ann_paths[:4])"
   ]
  },
  {
   "cell_type": "code",
   "execution_count": null,
   "metadata": {},
   "outputs": [],
   "source": []
  }
 ]
}