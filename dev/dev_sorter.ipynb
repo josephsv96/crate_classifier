{
 "metadata": {
  "language_info": {
   "codemirror_mode": {
    "name": "ipython",
    "version": 3
   },
   "file_extension": ".py",
   "mimetype": "text/x-python",
   "name": "python",
   "nbconvert_exporter": "python",
   "pygments_lexer": "ipython3",
   "version": "3.7.7-final"
  },
  "orig_nbformat": 2,
  "kernelspec": {
   "name": "python_defaultSpec_1599569037190",
   "display_name": "Python 3.7.7 64-bit ('tf21': conda)"
  }
 },
 "nbformat": 4,
 "nbformat_minor": 2,
 "cells": [
  {
   "cell_type": "code",
   "execution_count": null,
   "metadata": {},
   "outputs": [],
   "source": [
    "# Importing modules\n",
    "import numpy as np\n",
    "from data_loader import load_npy\n",
    "import matplotlib.pyplot as plt\n",
    "from pathlib import Path\n",
    "\n",
    "# Local Modules\n",
    "import statistics"
   ]
  },
  {
   "cell_type": "code",
   "execution_count": null,
   "metadata": {},
   "outputs": [],
   "source": [
    "DATASET_PATH = Path(\"C:/Users/josep/Documents/work/crate_classifier_dev/outputs/backup/images_3\")"
   ]
  },
  {
   "cell_type": "code",
   "execution_count": null,
   "metadata": {},
   "outputs": [],
   "source": [
    "images = load_npy(DATASET_PATH / \"images_3_part_1/dataset_images_aug.npy\")\n",
    "annots = load_npy(DATASET_PATH / \"images_3_part_1/dataset_annots_aug.npy\")"
   ]
  },
  {
   "cell_type": "code",
   "execution_count": null,
   "metadata": {
    "tags": []
   },
   "outputs": [],
   "source": [
    "index = 20\n",
    "class_names = [\"green_dark\",\"blue_light\",\"grey\",\"green_light\",\"red\",\"blue_dark\", \"blue_new_1\", \"blue_new_2\"]\n",
    "sample = annots[index,:,:]\n",
    "\n",
    "flatten_arr = sample.astype(dtype=\"int64\").flatten()\n",
    "frequent_class = np.argmax(np.bincount(flatten_arr))\n",
    "\n",
    "sample_image = np.zeros(images[index,:,:,:3].shape)\n",
    "sample_image[:,:,0] = images[index,:,:,2]\n",
    "sample_image[:,:,1] = images[index,:,:,1]\n",
    "sample_image[:,:,2] = images[index,:,:,0]\n",
    "\n",
    "plt.title(f\"class: {frequent_class}\\n{class_names[frequent_class-1]}\")\n",
    "plt.imshow(sample_image/255)\n",
    "plt.show()"
   ]
  },
  {
   "cell_type": "code",
   "execution_count": null,
   "metadata": {},
   "outputs": [],
   "source": [
    "annots_2 = load_npy(DATASET_PATH / \"images_3_part_2/dataset_annots_aug.npy\")"
   ]
  },
  {
   "cell_type": "code",
   "execution_count": null,
   "metadata": {},
   "outputs": [],
   "source": [
    "annots = np.concatenate((annots, annots_2), axis=0)"
   ]
  },
  {
   "cell_type": "code",
   "execution_count": null,
   "metadata": {},
   "outputs": [],
   "source": [
    "statistics.show_class_dist(annots)"
   ]
  },
  {
   "cell_type": "code",
   "execution_count": null,
   "metadata": {},
   "outputs": [],
   "source": [
    "annots.shape"
   ]
  },
  {
   "cell_type": "code",
   "execution_count": null,
   "metadata": {},
   "outputs": [],
   "source": []
  }
 ]
}