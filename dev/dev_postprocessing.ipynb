{
 "metadata": {
  "language_info": {
   "codemirror_mode": {
    "name": "ipython",
    "version": 3
   },
   "file_extension": ".py",
   "mimetype": "text/x-python",
   "name": "python",
   "nbconvert_exporter": "python",
   "pygments_lexer": "ipython3",
   "version": "3.7.7-final"
  },
  "orig_nbformat": 2,
  "kernelspec": {
   "name": "Python 3.7.7 64-bit ('tf21': conda)",
   "display_name": "Python 3.7.7 64-bit ('tf21': conda)",
   "metadata": {
    "interpreter": {
     "hash": "d326e33b618ba746c6f58dad072ad617c39c2b2026e7007fb41a894e901d1b2b"
    }
   }
  }
 },
 "nbformat": 4,
 "nbformat_minor": 2,
 "cells": [
  {
   "cell_type": "code",
   "execution_count": null,
   "metadata": {},
   "outputs": [],
   "source": [
    "# Importing modules\n",
    "import numpy as np\n",
    "from data_loader import load_npy\n",
    "import matplotlib.pyplot as plt\n",
    "from pathlib import Path"
   ]
  },
  {
   "cell_type": "code",
   "execution_count": null,
   "metadata": {},
   "outputs": [],
   "source": [
    "# Local modules\n",
    "import postprocessing\n",
    "import segmap"
   ]
  },
  {
   "cell_type": "code",
   "execution_count": null,
   "metadata": {},
   "outputs": [],
   "source": [
    "DATASET_PATH = Path(\"C:/Users/josep/Documents/work/crate_classifier_dev/outputs/img_3_sample_train\")\n",
    "# DATASET_PATH = Path(\"C:/Users/josep/Documents/work/crate_classifier_dev/outputs/img_3_sample_valid_centered_small\")"
   ]
  },
  {
   "cell_type": "code",
   "execution_count": null,
   "metadata": {},
   "outputs": [],
   "source": [
    "img_arr = load_npy(DATASET_PATH / \"dataset_images_aug.npy\") /255\n",
    "ann_arr = load_npy(DATASET_PATH / \"dataset_annots_aug.npy\")"
   ]
  },
  {
   "cell_type": "code",
   "execution_count": null,
   "metadata": {},
   "outputs": [],
   "source": [
    "# def Tile_3x3(ann_arr, tile_cfg):\n",
    "#     a, b = tile_cfg\n",
    "#     arr_size = ann_arr.shape[0]\n",
    "#     S1 = np.zeros((arr_size,a,a))\n",
    "#     S2 = np.zeros((arr_size,a,b))\n",
    "#     S3 = np.zeros((arr_size,a,a))\n",
    "#     S4 = np.zeros((arr_size,b,a))\n",
    "#     S5 = np.zeros((arr_size,b,b))\n",
    "#     S6 = np.zeros((arr_size,b,a))\n",
    "#     S7 = np.zeros((arr_size,a,a))\n",
    "#     S8 = np.zeros((arr_size,a,b))\n",
    "#     S9 = np.zeros((arr_size,a,a))\n",
    "\n",
    "#     S1 = ann_arr[:, 0:a,    0:a,    0]\n",
    "#     S2 = ann_arr[:, 0:a,    a:a+b,  0]\n",
    "#     S3 = ann_arr[:, 0:a,    a+b:,   0]\n",
    "#     S4 = ann_arr[:, a:a+b,  0:a,    0]\n",
    "#     S5 = ann_arr[:, a:a+b,  a:a+b,  0]\n",
    "#     S6 = ann_arr[:, a:a+b,  a+b:,   0]\n",
    "#     S7 = ann_arr[:, a+b:,   0:a,    0]\n",
    "#     S8 = ann_arr[:, a+b:,   a:a+b,  0]\n",
    "#     S9 = ann_arr[:, a+b:,   a+b:,   0]\n",
    "\n",
    "#     return [S1, S2, S3, S4, S5, S6, S7, S8, S9]"
   ]
  },
  {
   "cell_type": "code",
   "execution_count": null,
   "metadata": {},
   "outputs": [],
   "source": [
    "index = 16\n",
    "sample_im = img_arr[index,:,:,:3]\n",
    "sample_an = ann_arr[index,:,:,0]"
   ]
  },
  {
   "cell_type": "code",
   "execution_count": null,
   "metadata": {
    "tags": []
   },
   "outputs": [],
   "source": [
    "width = sample_im.shape[0]\n",
    "\n",
    "# Splitting the image with the formula width = 2a + b\n",
    "# Set b, b contributes to the dim of the inner square\n",
    "b = 60\n",
    "a = int((width - b) / 2)\n",
    "\n",
    "ticks = np.array([a, width-a])\n",
    "\n",
    "fig = plt.figure(figsize=(10,5))\n",
    "ax = fig.add_subplot(1,2,1)\n",
    "plt.imshow(sample_im)\n",
    "\n",
    "ax.set_xticks(ticks)\n",
    "ax.set_yticks(ticks)\n",
    "plt.grid(color=\"white\")\n",
    "\n",
    "ax = fig.add_subplot(1,2,2)\n",
    "plt.imshow(sample_an)\n",
    "\n",
    "ax.set_xticks(ticks)\n",
    "ax.set_yticks(ticks)\n",
    "plt.grid(color=\"white\")\n",
    "\n",
    "plt.show()"
   ]
  },
  {
   "cell_type": "code",
   "execution_count": null,
   "metadata": {},
   "outputs": [],
   "source": [
    "def Tile_3x3(annot_i, tile_cfg):\n",
    "    a, b = tile_cfg\n",
    "    S1 = np.zeros((a,a))\n",
    "    S2 = np.zeros((a,b))\n",
    "    S3 = np.zeros((a,a))\n",
    "    S4 = np.zeros((b,a))\n",
    "    S5 = np.zeros((b,b))\n",
    "    S6 = np.zeros((b,a))\n",
    "    S7 = np.zeros((a,a))\n",
    "    S8 = np.zeros((a,b))\n",
    "    S9 = np.zeros((a,a))\n",
    "\n",
    "    S1 = annot_i[0:a,    0:a,    0]\n",
    "    S2 = annot_i[0:a,    a:a+b,  0]\n",
    "    S3 = annot_i[0:a,    a+b:,   0]\n",
    "    S4 = annot_i[a:a+b,  0:a,    0]\n",
    "    S5 = annot_i[a:a+b,  a:a+b,  0]\n",
    "    S6 = annot_i[a:a+b,  a+b:,   0]\n",
    "    S7 = annot_i[a+b:,   0:a,    0]\n",
    "    S8 = annot_i[a+b:,   a:a+b,  0]\n",
    "    S9 = annot_i[a+b:,   a+b:,   0]\n",
    "\n",
    "    return [S1, S2, S3, S4, S5, S6, S7, S8, S9]"
   ]
  },
  {
   "cell_type": "code",
   "execution_count": null,
   "metadata": {},
   "outputs": [],
   "source": [
    "sectors_img = Tile_3x3(img_arr[index], (a, b))\n",
    "sectors_ann = Tile_3x3(ann_arr[index], (a, b))"
   ]
  },
  {
   "cell_type": "code",
   "execution_count": null,
   "metadata": {},
   "outputs": [],
   "source": [
    "sec_no = 6\n",
    "sec_img = sectors_img[sec_no]\n",
    "sec_ann = sectors_ann[sec_no]\n",
    "plt.subplot(1,2,1)\n",
    "plt.imshow(sec_img)\n",
    "plt.subplot(1,2,2)\n",
    "plt.imshow(sec_ann)\n",
    "plt.show()"
   ]
  },
  {
   "cell_type": "code",
   "execution_count": null,
   "metadata": {},
   "outputs": [],
   "source": [
    "seg_obj = segmap.SegmentaionMap(sec_ann)"
   ]
  },
  {
   "cell_type": "code",
   "execution_count": null,
   "metadata": {},
   "outputs": [],
   "source": [
    "def get_sec_densities(sectors_ann):\n",
    "    # All class densities for one image\n",
    "    class_densities = []\n",
    "    for sector in sectors_ann:\n",
    "        seg_obj = segmap.SegmentaionMap(sector)\n",
    "        class_densities.append(np.asarray(seg_obj.activation_density()))\n",
    "\n",
    "    return np.asarray(class_densities)"
   ]
  },
  {
   "cell_type": "code",
   "execution_count": null,
   "metadata": {},
   "outputs": [],
   "source": [
    "class_densities = get_sec_densities(sectors_ann)"
   ]
  },
  {
   "cell_type": "code",
   "execution_count": null,
   "metadata": {},
   "outputs": [],
   "source": [
    "class_densities.shape"
   ]
  },
  {
   "cell_type": "code",
   "execution_count": null,
   "metadata": {},
   "outputs": [],
   "source": [
    "# The class with the highest average\n",
    "np.mean(class_densities, axis=0)"
   ]
  },
  {
   "source": [
    "### Getting densities from all annotations in the dataset"
   ],
   "cell_type": "markdown",
   "metadata": {}
  },
  {
   "cell_type": "code",
   "execution_count": null,
   "metadata": {},
   "outputs": [],
   "source": [
    "ann_arr.shape"
   ]
  },
  {
   "cell_type": "code",
   "execution_count": null,
   "metadata": {},
   "outputs": [],
   "source": [
    "# num_classes = 10\n",
    "densites_arr = []\n",
    "for annot in range(ann_arr.shape[0]):\n",
    "    sectors_ann = Tile_3x3(ann_arr[index], (a, b))\n",
    "    sectors_den = get_sec_densities(sectors_ann)\n",
    "    densites_arr.append(sectors_den)\n",
    "\n",
    "densites_arr = np.asarray(densites_arr)"
   ]
  },
  {
   "cell_type": "code",
   "execution_count": null,
   "metadata": {},
   "outputs": [],
   "source": [
    "densites_arr.shape"
   ]
  },
  {
   "cell_type": "code",
   "execution_count": null,
   "metadata": {},
   "outputs": [],
   "source": [
    "def get_class_info(class_den_list):\n",
    "    return np.argmax(np.mean(class_den_list, axis=0))"
   ]
  },
  {
   "cell_type": "code",
   "execution_count": null,
   "metadata": {},
   "outputs": [],
   "source": [
    "get_class_info(densites_arr[-1,:,:])"
   ]
  },
  {
   "cell_type": "code",
   "execution_count": null,
   "metadata": {},
   "outputs": [],
   "source": []
  }
 ]
}