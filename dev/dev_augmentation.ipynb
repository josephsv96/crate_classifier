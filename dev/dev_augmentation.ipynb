{
 "metadata": {
  "language_info": {
   "codemirror_mode": {
    "name": "ipython",
    "version": 3
   },
   "file_extension": ".py",
   "mimetype": "text/x-python",
   "name": "python",
   "nbconvert_exporter": "python",
   "pygments_lexer": "ipython3",
   "version": "3.7.7-final"
  },
  "orig_nbformat": 2,
  "kernelspec": {
   "name": "Python 3.7.7 64-bit ('tf21': conda)",
   "display_name": "Python 3.7.7 64-bit ('tf21': conda)",
   "metadata": {
    "interpreter": {
     "hash": "d326e33b618ba746c6f58dad072ad617c39c2b2026e7007fb41a894e901d1b2b"
    }
   }
  }
 },
 "nbformat": 4,
 "nbformat_minor": 2,
 "cells": [
  {
   "cell_type": "code",
   "execution_count": null,
   "metadata": {},
   "outputs": [],
   "source": [
    "# Importing modules\n",
    "import numpy as np\n",
    "from data_loader import load_npy\n",
    "import matplotlib.pyplot as plt\n",
    "from pathlib import Path\n",
    "\n",
    "# Local Modules\n",
    "import augmentation_dev as augmentation\n",
    "from preprocessing import get_dataset\n",
    "from utilities import save_npy_v2\n",
    "import statistics"
   ]
  },
  {
   "cell_type": "code",
   "execution_count": null,
   "metadata": {
    "tags": []
   },
   "outputs": [],
   "source": [
    "def print_sample(img_arr, ann_arr, sample_size, num_class):\n",
    "    index = -1\n",
    "    j = 1\n",
    "    plt.figure(figsize=(12,3*sample_size))\n",
    "    for i in range(sample_size):\n",
    "        plt.subplot(sample_size,4,j)\n",
    "        plt.imshow(img_arr[i,:,:,0:3]/255)\n",
    "        plt.subplot(sample_size,4,j+1)\n",
    "        plt.imshow(img_arr[i,:,:,3:6]/255)\n",
    "        plt.subplot(sample_size,4,j+2)\n",
    "        plt.imshow(img_arr[i,:,:,6:9]/255)\n",
    "        plt.subplot(sample_size,4,j+3)\n",
    "        plt.imshow(ann_arr[i,:,:,0], vmin=0, vmax=num_class)\n",
    "        j += 4\n",
    "    plt.show()"
   ]
  },
  {
   "cell_type": "markdown",
   "metadata": {},
   "source": [
    "### Defining image array"
   ]
  },
  {
   "cell_type": "code",
   "execution_count": null,
   "metadata": {
    "tags": []
   },
   "outputs": [],
   "source": [
    "# Single set of images\n",
    "# For images_3, dataset is created in 2 parts due to memory constrains\n",
    "\n",
    "DATASET_PATH = Path(\"images/img_3_test\")\n",
    "\n",
    "img_arr, ann_arr = get_dataset(DATASET_PATH, num_exp=3)\n",
    "print_sample(img_arr, ann_arr, sample_size=2, num_class=8)"
   ]
  },
  {
   "cell_type": "code",
   "execution_count": null,
   "metadata": {
    "tags": []
   },
   "outputs": [],
   "source": [
    "print(f\"Img array shape: {img_arr.shape}\")\n",
    "print(f\"Ann array shape: {ann_arr.shape}\")"
   ]
  },
  {
   "cell_type": "markdown",
   "metadata": {},
   "source": [
    "### Creating augmented images"
   ]
  },
  {
   "cell_type": "code",
   "execution_count": null,
   "metadata": {},
   "outputs": [],
   "source": [
    "OUTPUT_PATH = \"outputs/images_augmented\""
   ]
  },
  {
   "cell_type": "code",
   "execution_count": null,
   "metadata": {
    "tags": []
   },
   "outputs": [],
   "source": [
    "aug_obj = augmentation.Augmenter(img_arr, ann_arr, out_h=128, out_w=128, num_exp=3, out_dir= OUTPUT_PATH)"
   ]
  },
  {
   "cell_type": "code",
   "execution_count": null,
   "metadata": {
    "tags": []
   },
   "outputs": [],
   "source": [
    "aug_img, aug_ann = aug_obj.generate_aug(num_gen=10, write_img=True)"
   ]
  },
  {
   "cell_type": "code",
   "execution_count": null,
   "metadata": {
    "tags": []
   },
   "outputs": [],
   "source": [
    "print_sample(aug_img, aug_ann, 5, num_class=8)"
   ]
  },
  {
   "cell_type": "code",
   "execution_count": null,
   "metadata": {},
   "outputs": [],
   "source": [
    "save_npy_v2(aug_img, Path(OUTPUT_PATH)/\"dataset_images_aug\")\n",
    "save_npy_v2(aug_ann, Path(OUTPUT_PATH)/\"dataset_annots_aug\")"
   ]
  },
  {
   "cell_type": "code",
   "execution_count": null,
   "metadata": {},
   "outputs": [],
   "source": [
    "annots = aug_ann\n",
    "statistics.show_class_dist(annots)"
   ]
  }
 ]
}