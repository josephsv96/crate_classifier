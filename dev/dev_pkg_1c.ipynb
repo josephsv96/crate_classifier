{
 "metadata": {
  "language_info": {
   "codemirror_mode": {
    "name": "ipython",
    "version": 3
   },
   "file_extension": ".py",
   "mimetype": "text/x-python",
   "name": "python",
   "nbconvert_exporter": "python",
   "pygments_lexer": "ipython3",
   "version": "3.7.7-final"
  },
  "orig_nbformat": 2,
  "kernelspec": {
   "name": "python3",
   "display_name": "Python 3.7.7 64-bit ('tf21': conda)",
   "metadata": {
    "interpreter": {
     "hash": "d326e33b618ba746c6f58dad072ad617c39c2b2026e7007fb41a894e901d1b2b"
    }
   }
  }
 },
 "nbformat": 4,
 "nbformat_minor": 2,
 "cells": [
  {
   "cell_type": "code",
   "execution_count": null,
   "metadata": {},
   "outputs": [],
   "source": [
    "import numpy as np\n",
    "from tqdm import tqdm\n",
    "import matplotlib.pyplot as plt\n",
    "from pathlib import Path"
   ]
  },
  {
   "cell_type": "code",
   "execution_count": null,
   "metadata": {},
   "outputs": [],
   "source": [
    "# Local Modules\n",
    "from utils import load_json\n",
    "import pkg_1a\n",
    "import pkg_1b\n",
    "\n",
    "from augmentation import Augmenter\n",
    "# from preprocessing import get_dataset\n",
    "from utils import save_npy_v2, show_dataset, get_timestamp, get_custom_cmap\n",
    "import statistics"
   ]
  },
  {
   "cell_type": "code",
   "execution_count": null,
   "metadata": {},
   "outputs": [],
   "source": [
    "PKG_1_PARAMS = load_json(\"pkg_1_config.json\")"
   ]
  },
  {
   "cell_type": "code",
   "execution_count": null,
   "metadata": {},
   "outputs": [],
   "source": [
    "OUTPUT_PATH = Path.cwd() / (PKG_1_PARAMS[\"out_dir\"] + \"/\" + get_timestamp())\n",
    "(Path(OUTPUT_PATH)).mkdir()\n",
    "(Path(OUTPUT_PATH) / \"images\").mkdir()\n",
    "(Path(OUTPUT_PATH) / \"npy_images\").mkdir()\n",
    "(Path(OUTPUT_PATH) / \"npy_annots\").mkdir()\n",
    "(Path(OUTPUT_PATH) / \"datasets\").mkdir()"
   ]
  },
  {
   "cell_type": "code",
   "execution_count": null,
   "metadata": {},
   "outputs": [],
   "source": [
    "# Write this dict to a JSON in dataset folder and exectue only if not exist\n",
    "# # pkg_1a\n",
    "# img_paths, ann_paths = pkg_1a.main(PKG_1_PARAMS)\n",
    "# # pkg_1b\n",
    "# image_db, annot_db = pkg_1b.main(PKG_1_PARAMS)\n",
    "\n",
    "# pkg_1a\n",
    "img_paths, ann_paths = pkg_1a.data_checker(\n",
    "    PKG_1_PARAMS[\"src_dir\"],\n",
    "    PKG_1_PARAMS[\"num_exp\"])\n",
    "\n",
    "# pkg_1b\n",
    "image_db, annot_db = pkg_1b.sort_by_class(\n",
    "    img_paths, \n",
    "    ann_paths,\n",
    "    PKG_1_PARAMS)            "
   ]
  },
  {
   "cell_type": "code",
   "execution_count": null,
   "metadata": {},
   "outputs": [],
   "source": [
    "statistics.class_dist_from_db(annot_db)"
   ]
  },
  {
   "cell_type": "code",
   "execution_count": null,
   "metadata": {},
   "outputs": [],
   "source": [
    "def gen_aug_data(image_db, annot_db, PARAMS, out_dir=OUTPUT_PATH):  \n",
    "    GEN_CONFIG = PARAMS[\"aug_gen\"]\n",
    "     \n",
    "    class_selected = [f\"class_{i}\" for i in GEN_CONFIG[\"class_to_gen\"]]\n",
    "\n",
    "    img_sel = []\n",
    "    ann_sel = []  \n",
    "\n",
    "    # Add class weightage here\n",
    "    for img_class in class_selected:\n",
    "        img_files = image_db[img_class]\n",
    "        ann_files = annot_db[img_class]\n",
    "\n",
    "        img_sel += img_files\n",
    "        ann_sel += ann_files\n",
    "\n",
    "    dataset_size = GEN_CONFIG[\"dataset_size\"]\n",
    "\n",
    "    img_chunks = [img_sel[x:x+dataset_size * PARAMS[\"num_exp\"]] for x in range(0, len(img_sel), dataset_size * PARAMS[\"num_exp\"])]\n",
    "\n",
    "    ann_chunks = [ann_sel[x:x+dataset_size] for x in range(0, len(ann_sel), dataset_size)]  \n",
    "\n",
    "    index_init = 0\n",
    "    for i in range(len(img_chunks)):\n",
    "\n",
    "        num_gen = int(GEN_CONFIG[\"gen_scale\"] * len(ann_chunks[i]))\n",
    "        aug_obj = Augmenter(PARAMS, img_chunks[i], ann_chunks[i], out_dir)\n",
    "\n",
    "        aug_img, aug_ann = aug_obj.generate_aug(num_gen=num_gen, r_state=GEN_CONFIG[\"r_state\"], write_img=True, start_index = index_init)\n",
    "\n",
    "        index_init += num_gen\n",
    "\n",
    "        save_npy_v2(aug_img, Path(out_dir)/f\"datasets/images_{i+1}\")\n",
    "        save_npy_v2(aug_ann, Path(out_dir)/f\"datasets/annots_{i+1}\")\n",
    "\n",
    "    return aug_img, aug_ann"
   ]
  },
  {
   "cell_type": "code",
   "execution_count": null,
   "metadata": {},
   "outputs": [],
   "source": [
    "aug_img, aug_ann = gen_aug_data(image_db, annot_db, PKG_1_PARAMS)"
   ]
  },
  {
   "cell_type": "code",
   "execution_count": null,
   "metadata": {},
   "outputs": [],
   "source": [
    "# for i in range(0, 9):\n",
    "#     OUTPUT_PATH = Path.cwd() / (PKG_1_PARAMS[\"out_dir\"] + \"/\" + get_timestamp())\n",
    "#     (Path(OUTPUT_PATH)).mkdir()\n",
    "#     (Path(OUTPUT_PATH) / \"images\").mkdir()\n",
    "#     (Path(OUTPUT_PATH) / \"npy_images\").mkdir()\n",
    "#     (Path(OUTPUT_PATH) / \"npy_annots\").mkdir()\n",
    "#     (Path(OUTPUT_PATH) / \"datasets\").mkdir()\n",
    "\n",
    "#     PKG_1_PARAMS[\"aug_gen\"][\"class_to_gen\"] = [9]\n",
    "#     aug_img, aug_ann = gen_aug_data(image_db, annot_db, PKG_1_PARAMS, out_dir=OUTPUT_PATH)\n",
    "#     print(i)\n"
   ]
  },
  {
   "cell_type": "code",
   "execution_count": null,
   "metadata": {},
   "outputs": [],
   "source": [
    "# img_sel = image_db[\"class_1\"]\n",
    "# ann_sel = annot_db[\"class_1\"]"
   ]
  },
  {
   "cell_type": "code",
   "execution_count": null,
   "metadata": {},
   "outputs": [],
   "source": [
    "# aug_obj = augmentation.Augmenter(PKG_1_PARAMS, img_sel, ann_sel, out_dir= OUTPUT_PATH)"
   ]
  },
  {
   "cell_type": "code",
   "execution_count": null,
   "metadata": {},
   "outputs": [],
   "source": [
    "# aug_img, aug_ann = aug_obj.generate_aug(num_gen=10, write_img=True)"
   ]
  },
  {
   "cell_type": "code",
   "execution_count": null,
   "metadata": {},
   "outputs": [],
   "source": [
    "print(f\"Img array shape: {aug_img.shape}\")\n",
    "print(f\"Ann array shape: {aug_ann.shape}\")"
   ]
  },
  {
   "cell_type": "code",
   "execution_count": null,
   "metadata": {},
   "outputs": [],
   "source": [
    "show_dataset(aug_img, aug_ann, 10, num_exp=3, num_class=10)"
   ]
  },
  {
   "cell_type": "code",
   "execution_count": null,
   "metadata": {},
   "outputs": [],
   "source": []
  },
  {
   "cell_type": "code",
   "execution_count": null,
   "metadata": {},
   "outputs": [],
   "source": [
    "# def main(PKG_1_PARAMS=None):\n",
    "#     # \"C:/Users/josep/Documents/work/crate_classifier_dev_v2/images/factory_images_annotated\"\n",
    "#     #\"C:/Users/josep/Documents/work/crate_classifier_dev_v2/images/img_3_sample_train\"\n",
    "#     if PKG_1_PARAMS is None:\n",
    "#         PKG_1_PARAMS = {\n",
    "#             \"src_dir\": \"C:/Users/josep/Documents/work/crate_classifier_dev_v2/images/img_3_sample_train\",\n",
    "#             \"img_src_shape\": (964, 1292),\n",
    "#             \"net_in_shape\": (128, 128),\n",
    "#             \"num_exp\": 3,\n",
    "#             \"num_classes\": 20,\n",
    "#             \"bg_class_id\": [0, 9, 10],\n",
    "#             \"cls_thres\": 0.85,\n",
    "#             }\n",
    "\n",
    "#     # pkg_1a\n",
    "#     img_paths, ann_paths = pkg_1a.main(PKG_1_PARAMS)\n",
    "#     # pkg_1b\n",
    "#     image_db, annot_db = sort_by_class(img_paths, ann_paths, PKG_1_PARAMS)\n",
    "\n",
    "#     return image_db, annot_db"
   ]
  },
  {
   "cell_type": "code",
   "execution_count": null,
   "metadata": {},
   "outputs": [],
   "source": [
    "# if __name__ == \"__main__\":\n",
    "#     image_db, annot_db = main()\n",
    "#     print(\"img_paths['class_1'] sample:\\n\", image_db[\"class_1\"][:4])\n",
    "#     print(\"ann_paths['class_1'] sample:\\n\", annot_db[\"class_1\"][:4])"
   ]
  },
  {
   "cell_type": "code",
   "execution_count": null,
   "metadata": {},
   "outputs": [],
   "source": []
  },
  {
   "cell_type": "code",
   "execution_count": null,
   "metadata": {},
   "outputs": [],
   "source": []
  },
  {
   "cell_type": "code",
   "execution_count": null,
   "metadata": {},
   "outputs": [],
   "source": []
  }
 ]
}