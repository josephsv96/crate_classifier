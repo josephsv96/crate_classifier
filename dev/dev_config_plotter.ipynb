{
 "metadata": {
  "language_info": {
   "codemirror_mode": {
    "name": "ipython",
    "version": 3
   },
   "file_extension": ".py",
   "mimetype": "text/x-python",
   "name": "python",
   "nbconvert_exporter": "python",
   "pygments_lexer": "ipython3",
   "version": "3.7.7-final"
  },
  "orig_nbformat": 2,
  "kernelspec": {
   "name": "python_defaultSpec_1599298562404",
   "display_name": "Python 3.7.7 64-bit ('tf21': conda)"
  }
 },
 "nbformat": 4,
 "nbformat_minor": 2,
 "cells": [
  {
   "cell_type": "code",
   "execution_count": null,
   "metadata": {},
   "outputs": [],
   "source": [
    "import numpy as np\n",
    "import matplotlib.pyplot as plt\n",
    "import matplotlib.patches as patches"
   ]
  },
  {
   "cell_type": "code",
   "execution_count": null,
   "metadata": {},
   "outputs": [],
   "source": [
    "def add_layer(axes, rect_pos, filter_num, color, kernel_size):\n",
    "    SCALE = 10\n",
    "    kernel_size = SCALE * kernel_size\n",
    "\n",
    "    axes.add_patch(\n",
    "        patches.Rectangle(\n",
    "            xy=rect_pos,\n",
    "            width=filter_num,\n",
    "            height=1,\n",
    "            edgecolor = color, \n",
    "            fill=False))\n",
    "\n",
    "    axes.add_patch(\n",
    "        patches.Rectangle(\n",
    "            xy=(rect_pos[0], 0.5-kernel_size/2),\n",
    "            width=filter_num,\n",
    "            height=kernel_size,\n",
    "            edgecolor = color, \n",
    "            fill=True))"
   ]
  },
  {
   "cell_type": "code",
   "execution_count": null,
   "metadata": {
    "tags": []
   },
   "outputs": [],
   "source": [
    "def model_layout(rect_pos_list, filter_num, filter_size):\n",
    "    INPUT_DIM = 128\n",
    "    filter_size = np.array(filter_size)/INPUT_DIM\n",
    "\n",
    "    fig, ax = plt.subplots(figsize=(14,4))\n",
    "    plot_extends = (rect_pos_list[0][0],\n",
    "                    rect_pos_list[-1][0]+filter_num[-1])\n",
    "    ax.plot(plot_extends,[0.5,0.5], color=\"red\", linestyle=\"--\")\n",
    "\n",
    "    for rect_pos, filter_num, kernel_size in zip(rect_pos_list, filter_num, filter_size):\n",
    "        add_layer(ax, rect_pos, filter_num, color= \"blue\", kernel_size=kernel_size)\n",
    "    plt.xticks([])\n",
    "    plt.yticks([])\n",
    "    plt.xlim([-100, plot_extends[-1]+100])\n",
    "    plt.show()"
   ]
  },
  {
   "cell_type": "code",
   "execution_count": null,
   "metadata": {},
   "outputs": [],
   "source": [
    "# 6-Stack model\n",
    "RECT_POS_LIST = [(0,0), \n",
    "(60,0), (80,0), (100,0), (120,0),  \n",
    "(200,0), (240,0), (280,0), (320,0),\n",
    "(420,0), (470,0), (520,0), (570,0), \n",
    "(700,0), (780,0), (860,0), (940,0),\n",
    "(1100,0)]"
   ]
  },
  {
   "cell_type": "code",
   "execution_count": null,
   "metadata": {},
   "outputs": [],
   "source": [
    "# DenseNet21\n",
    "filter_num = [8,8,8,8,8,16,16,16,16,32,32,32,32,64,64,64,64,20]\n",
    "filter_size = [7,1,3,1,3,1,3,1,3,1,3,1,3,1,3,1,3,1,3,1,3,1]\n",
    "model_layout(RECT_POS_LIST, filter_num, filter_size)"
   ]
  },
  {
   "cell_type": "code",
   "execution_count": null,
   "metadata": {},
   "outputs": [],
   "source": [
    "# DenseNet21_Small\n",
    "filter_num = [8,16,16,16,16,16,16,16,16,16,16,16,16,32,32,32,32,20]\n",
    "filter_size = [7,1,3,1,3,1,3,1,3,1,3,1,3,1,3,1,3,1,3,1,3,1]\n",
    "model_layout(RECT_POS_LIST, filter_num, filter_size)"
   ]
  },
  {
   "cell_type": "code",
   "execution_count": null,
   "metadata": {},
   "outputs": [],
   "source": [
    "# 7-Stack model\n",
    "RECT_POS_LIST = [\n",
    "(60,0), (80,0), \n",
    "(200,0), (240,0),\n",
    "(420,0), (470,0),\n",
    "(600,0), (680,0),\n",
    "(860,0), (940,0),\n",
    "(1100,0)]"
   ]
  },
  {
   "cell_type": "code",
   "execution_count": null,
   "metadata": {},
   "outputs": [],
   "source": [
    "# VGG-16\n",
    "filter_num = [8,8,16,16,32,32,64,64,64,64,20]\n",
    "filter_size = [3,3,3,3,3,3,3,3,3,3,3]\n",
    "model_layout(RECT_POS_LIST, filter_num, filter_size)"
   ]
  },
  {
   "cell_type": "code",
   "execution_count": null,
   "metadata": {},
   "outputs": [],
   "source": []
  }
 ]
}