{
 "metadata": {
  "language_info": {
   "codemirror_mode": {
    "name": "ipython",
    "version": 3
   },
   "file_extension": ".py",
   "mimetype": "text/x-python",
   "name": "python",
   "nbconvert_exporter": "python",
   "pygments_lexer": "ipython3",
   "version": "3.7.7-final"
  },
  "orig_nbformat": 2,
  "kernelspec": {
   "name": "Python 3.7.7 64-bit ('tf21': conda)",
   "display_name": "Python 3.7.7 64-bit ('tf21': conda)",
   "metadata": {
    "interpreter": {
     "hash": "d326e33b618ba746c6f58dad072ad617c39c2b2026e7007fb41a894e901d1b2b"
    }
   }
  }
 },
 "nbformat": 4,
 "nbformat_minor": 2,
 "cells": [
  {
   "cell_type": "code",
   "execution_count": 1,
   "metadata": {},
   "outputs": [],
   "source": [
    "import numpy as np\n",
    "from tqdm import tqdm"
   ]
  },
  {
   "cell_type": "code",
   "execution_count": 2,
   "metadata": {},
   "outputs": [],
   "source": [
    "from utilities import read_cmp\n",
    "from segmap_v2 import SegmentaionMap\n",
    "import pkg_1a\n",
    "import pkg_1b"
   ]
  },
  {
   "cell_type": "code",
   "execution_count": null,
   "metadata": {},
   "outputs": [],
   "source": [
    "PKG_1_PARAMS = {\n",
    "            \"src_dir\": \"C:/Users/josep/Documents/work/crate_classifier_dev_v2/images/img_3_sample_train\",\n",
    "            \"img_src_shape\": (964, 1292),\n",
    "            \"net_in_shape\": (128, 128),\n",
    "            \"num_exp\": 3,\n",
    "            \"num_classes\": 20,\n",
    "            \"bg_class_id\": [0, 9, 10],\n",
    "            \"cls_thres\": 0.85,\n",
    "            }"
   ]
  },
  {
   "cell_type": "code",
   "execution_count": 3,
   "metadata": {},
   "outputs": [
    {
     "output_type": "stream",
     "name": "stderr",
     "text": [
      "100%|██████████| 98/98 [00:31<00:00,  3.11it/s]\n"
     ]
    }
   ],
   "source": [
    "# pkg_1a\n",
    "img_paths, ann_paths = pkg_1a.main(PKG_1_PARAMS)\n",
    "# pkg_1b\n",
    "image_db, annot_db = pkg_1b.main(PKG_1_PARAMS)"
   ]
  },
  {
   "cell_type": "code",
   "execution_count": null,
   "metadata": {},
   "outputs": [],
   "source": []
  },
  {
   "cell_type": "code",
   "execution_count": null,
   "metadata": {},
   "outputs": [],
   "source": []
  },
  {
   "cell_type": "code",
   "execution_count": null,
   "metadata": {},
   "outputs": [],
   "source": []
  },
  {
   "cell_type": "code",
   "execution_count": null,
   "metadata": {},
   "outputs": [],
   "source": []
  },
  {
   "cell_type": "code",
   "execution_count": 4,
   "metadata": {},
   "outputs": [],
   "source": [
    "# def main(PKG_1_PARAMS=None):\n",
    "#     # \"C:/Users/josep/Documents/work/crate_classifier_dev_v2/images/factory_images_annotated\"\n",
    "#     #\"C:/Users/josep/Documents/work/crate_classifier_dev_v2/images/img_3_sample_train\"\n",
    "#     if PKG_1_PARAMS is None:\n",
    "#         PKG_1_PARAMS = {\n",
    "#             \"src_dir\": \"C:/Users/josep/Documents/work/crate_classifier_dev_v2/images/img_3_sample_train\",\n",
    "#             \"img_src_shape\": (964, 1292),\n",
    "#             \"net_in_shape\": (128, 128),\n",
    "#             \"num_exp\": 3,\n",
    "#             \"num_classes\": 20,\n",
    "#             \"bg_class_id\": [0, 9, 10],\n",
    "#             \"cls_thres\": 0.85,\n",
    "#             }\n",
    "\n",
    "#     # pkg_1a\n",
    "#     img_paths, ann_paths = pkg_1a.main(PKG_1_PARAMS)\n",
    "#     # pkg_1b\n",
    "#     image_db, annot_db = sort_by_class(img_paths, ann_paths, PKG_1_PARAMS)\n",
    "\n",
    "#     return image_db, annot_db"
   ]
  },
  {
   "cell_type": "code",
   "execution_count": 5,
   "metadata": {},
   "outputs": [],
   "source": [
    "# if __name__ == \"__main__\":\n",
    "#     image_db, annot_db = main()\n",
    "#     print(\"img_paths['class_1'] sample:\\n\", image_db[\"class_1\"][:4])\n",
    "#     print(\"ann_paths['class_1'] sample:\\n\", annot_db[\"class_1\"][:4])"
   ]
  },
  {
   "cell_type": "code",
   "execution_count": null,
   "metadata": {},
   "outputs": [],
   "source": []
  }
 ]
}