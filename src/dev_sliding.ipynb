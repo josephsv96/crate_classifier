{
 "metadata": {
  "language_info": {
   "codemirror_mode": {
    "name": "ipython",
    "version": 3
   },
   "file_extension": ".py",
   "mimetype": "text/x-python",
   "name": "python",
   "nbconvert_exporter": "python",
   "pygments_lexer": "ipython3",
   "version": "3.7.7-final"
  },
  "orig_nbformat": 2,
  "kernelspec": {
   "name": "python3",
   "display_name": "Python 3.7.7 64-bit ('tf21': conda)",
   "metadata": {
    "interpreter": {
     "hash": "d326e33b618ba746c6f58dad072ad617c39c2b2026e7007fb41a894e901d1b2b"
    }
   }
  }
 },
 "nbformat": 4,
 "nbformat_minor": 2,
 "cells": [
  {
   "cell_type": "code",
   "execution_count": null,
   "metadata": {},
   "outputs": [],
   "source": [
    "# Importing modules\n",
    "import numpy as np\n",
    "import matplotlib.pyplot as plt\n",
    "from pathlib import Path\n",
    "\n",
    "from data_loader import load_npy\n",
    "from utils import load_json, bgr_to_rgb_img\n",
    "from segmap_v2 import SegmentaionMap"
   ]
  },
  {
   "cell_type": "code",
   "execution_count": null,
   "metadata": {},
   "outputs": [],
   "source": [
    "DATASET_PATH = Path(\"C:/Users/josep/Documents/work/crate_classifier/outputs/images_augmented\")\n",
    "# DATASET_PATH = Path(\"C:/Users/josep/Documents/work/crate_classifier_dev/outputs/img_3_sample_valid_centered_small\")"
   ]
  },
  {
   "cell_type": "code",
   "execution_count": null,
   "metadata": {},
   "outputs": [],
   "source": [
    "PKG_1_PARAMS = load_json(\"pkg_1_config.json\")"
   ]
  },
  {
   "cell_type": "code",
   "execution_count": null,
   "metadata": {},
   "outputs": [],
   "source": [
    "img_arr = load_npy(DATASET_PATH / \"dataset_images_aug.npy\") /255\n",
    "ann_arr = load_npy(DATASET_PATH / \"dataset_annots_aug.npy\")"
   ]
  },
  {
   "source": [
    "## Testing Sliding window splitting"
   ],
   "cell_type": "markdown",
   "metadata": {}
  },
  {
   "cell_type": "code",
   "execution_count": null,
   "metadata": {},
   "outputs": [],
   "source": [
    "# Local modules\n",
    "from sliding import SlidingWindow\n",
    "import segmap"
   ]
  },
  {
   "cell_type": "code",
   "execution_count": null,
   "metadata": {},
   "outputs": [],
   "source": [
    "def sort_img_arr_by_class(ann_arr, PARAMS):\n",
    "    sector_name = [f\"sec_{i}\" for i in range(ann_arr.shape[0])]\n",
    "    sec_db = {class_name: [] for class_name in sector_name}\n",
    "\n",
    "    img_id = 0\n",
    "    for i in range(ann_arr.shape[0]):\n",
    "        annot = ann_arr[i, :, :, 0]\n",
    "        segmap_obj = SegmentaionMap(annot,\n",
    "                                    PARAMS[\"num_classes\"],\n",
    "                                    PARAMS[\"bg_class_id\"])\n",
    "        # fg_cls / activated_px, bg_cls/ total_px\n",
    "        cls_den_arr = segmap_obj.activation_density()\n",
    "        try:\n",
    "            detected_cls = np.where(cls_den_arr > PARAMS[\"det_thres\"])[0][0]\n",
    "        except IndexError:\n",
    "            # Pushing images with less than threshold to or first id or last id\n",
    "            detected_cls = 0\n",
    "\n",
    "        sec_db[f\"sec_{i}\"]= detected_cls\n",
    "        \n",
    "    return sec_db"
   ]
  },
  {
   "cell_type": "code",
   "execution_count": null,
   "metadata": {},
   "outputs": [],
   "source": [
    "index = 5\n",
    "plt.figure(figsize=(10,8))\n",
    "plt.subplot(1,2,1)\n",
    "plt.imshow(bgr_to_rgb_img(img_arr[index,:,:,3:6]))\n",
    "plt.xticks([])\n",
    "plt.yticks([])\n",
    "\n",
    "plt.subplot(1,2,2)\n",
    "plt.imshow(ann_arr[index,:,:,0])\n",
    "plt.clim([0,10])\n",
    "plt.xticks([])\n",
    "plt.yticks([])\n",
    "\n",
    "plt.tight_layout()\n",
    "plt.show()"
   ]
  },
  {
   "cell_type": "code",
   "execution_count": null,
   "metadata": {},
   "outputs": [],
   "source": [
    "sample_ann = ann_arr[index,:,:,:]\n",
    "my_scale = 2\n",
    "sliding_obj = SlidingWindow(sample_ann, w_scale=my_scale, PARAMS= PKG_1_PARAMS)"
   ]
  },
  {
   "cell_type": "code",
   "execution_count": null,
   "metadata": {},
   "outputs": [],
   "source": [
    "sliding_obj.show_slices(num_class=10)"
   ]
  },
  {
   "cell_type": "code",
   "execution_count": null,
   "metadata": {},
   "outputs": [],
   "source": [
    "print(f\"annot_arr.shape: {sample_ann.shape}\")\n",
    "print(f\"N_dim: {sliding_obj.N_dim}\")\n",
    "print(f\"w_dim: {sliding_obj.w_dim}\")\n",
    "print(f\"w_stride: {sliding_obj.w_stride}\")\n",
    "print(f\"sliced_arr.shape: {sliding_obj.sliced_arr.shape}\")"
   ]
  },
  {
   "source": [
    "sliced = sliding_obj.sliced_arr\n",
    "ind =1\n",
    "plt.imshow(sliced[ind, :, :, 0])\n",
    "plt.show()"
   ],
   "cell_type": "code",
   "metadata": {},
   "execution_count": null,
   "outputs": []
  },
  {
   "cell_type": "code",
   "execution_count": null,
   "metadata": {},
   "outputs": [],
   "source": [
    "annot_db = sort_img_arr_by_class(sliced, PKG_1_PARAMS)"
   ]
  },
  {
   "cell_type": "code",
   "execution_count": null,
   "metadata": {},
   "outputs": [],
   "source": [
    "sliding_obj.show_slices_overlay(num_class=10)"
   ]
  },
  {
   "cell_type": "code",
   "execution_count": null,
   "metadata": {},
   "outputs": [],
   "source": [
    "sliding_obj.image_overlay(img_arr[index,:,:,3:6])"
   ]
  },
  {
   "cell_type": "code",
   "execution_count": null,
   "metadata": {},
   "outputs": [],
   "source": [
    "np.array(sliding_obj.sort_img_arr_by_class())"
   ]
  },
  {
   "source": [
    "## Sample out of Network"
   ],
   "cell_type": "markdown",
   "metadata": {}
  },
  {
   "cell_type": "code",
   "execution_count": null,
   "metadata": {},
   "outputs": [],
   "source": [
    "sample_img = np.load(DATASET_PATH/ \"output_img.npy\")\n",
    "sample_ann = np.load(DATASET_PATH/ \"output_ann.npy\")"
   ]
  },
  {
   "cell_type": "code",
   "execution_count": null,
   "metadata": {},
   "outputs": [],
   "source": [
    "my_scale = 4\n",
    "sliding_obj = SlidingWindow(sample_ann, w_scale=my_scale, PARAMS= PKG_1_PARAMS)"
   ]
  },
  {
   "cell_type": "code",
   "execution_count": null,
   "metadata": {},
   "outputs": [],
   "source": [
    "sliding_obj.show_slices(num_class=10)"
   ]
  },
  {
   "cell_type": "code",
   "execution_count": null,
   "metadata": {},
   "outputs": [],
   "source": []
  }
 ]
}