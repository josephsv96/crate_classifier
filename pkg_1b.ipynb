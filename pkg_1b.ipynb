{
 "metadata": {
  "language_info": {
   "codemirror_mode": {
    "name": "ipython",
    "version": 3
   },
   "file_extension": ".py",
   "mimetype": "text/x-python",
   "name": "python",
   "nbconvert_exporter": "python",
   "pygments_lexer": "ipython3",
   "version": "3.7.7-final"
  },
  "orig_nbformat": 2,
  "kernelspec": {
   "name": "Python 3.7.7 64-bit ('tf21': conda)",
   "display_name": "Python 3.7.7 64-bit ('tf21': conda)",
   "metadata": {
    "interpreter": {
     "hash": "d326e33b618ba746c6f58dad072ad617c39c2b2026e7007fb41a894e901d1b2b"
    }
   }
  }
 },
 "nbformat": 4,
 "nbformat_minor": 2,
 "cells": [
  {
   "cell_type": "code",
   "execution_count": null,
   "metadata": {},
   "outputs": [],
   "source": [
    "import numpy as np\n",
    "from tqdm import tqdm"
   ]
  },
  {
   "cell_type": "code",
   "execution_count": null,
   "metadata": {},
   "outputs": [],
   "source": [
    "# Local Modules\n",
    "from utilities import load_json\n",
    "from utilities import read_cmp\n",
    "from segmap_v2 import SegmentaionMap\n",
    "import pkg_1a"
   ]
  },
  {
   "cell_type": "code",
   "execution_count": null,
   "metadata": {},
   "outputs": [],
   "source": [
    "def sort_by_class(img_paths, ann_paths, PKG_1_PARAMS):\n",
    "    \"\"\"\n",
    "    Return sorted dicts of each class by pixel density sorting\n",
    "    \"\"\"\n",
    "    class_init = [f\"class_{i}\" for i in range(PKG_1_PARAMS[\"num_classes\"])]\n",
    "    image_db = {class_name:[] for class_name in class_init}\n",
    "    annot_db = {class_name:[] for class_name in class_init}\n",
    "\n",
    "    img_id = 0\n",
    "\n",
    "    for annot_file in tqdm(ann_paths):\n",
    "        annot_arr = read_cmp(annot_file, PKG_1_PARAMS[\"img_src_shape\"] )\n",
    "        segmap_obj = SegmentaionMap(annot_arr,\n",
    "        PKG_1_PARAMS[\"num_classes\"],\n",
    "        PKG_1_PARAMS[\"bg_class_id\"])\n",
    "        # fg_cls / activated_px, bg_cls/ total_px\n",
    "        cls_den_arr = segmap_obj.activation_density()\n",
    "        # Avoiding background classes\n",
    "        # cls_den_arr_original = cls_den_arr.copy()\n",
    "        cls_den_arr[segmap_obj.bg_class_id] = 0\n",
    "        try:\n",
    "            detected_cls = np.where(cls_den_arr > PKG_1_PARAMS[\"cls_thres\"]) [0][0]\n",
    "        except IndexError:\n",
    "            # Pushing images with less than threshold to or first id or last id\n",
    "            # detected_cls = segmap_obj.fg_class_id[-1]\n",
    "            detected_cls = 0\n",
    "            \n",
    "        annot_db[f\"class_{detected_cls}\"].append(annot_file)\n",
    "\n",
    "        # Appending image files\n",
    "        i = 0\n",
    "        while(i < PKG_1_PARAMS[\"num_exp\"]):\n",
    "            image_db[f\"class_{detected_cls}\"].append(img_paths[img_id + i])\n",
    "            i += 1\n",
    "        img_id += PKG_1_PARAMS[\"num_exp\"]\n",
    "\n",
    "\n",
    "    return image_db, annot_db"
   ]
  },
  {
   "cell_type": "code",
   "execution_count": null,
   "metadata": {},
   "outputs": [],
   "source": [
    "def main(PKG_1_PARAMS=None):\n",
    "    # \"C:/Users/josep/Documents/work/crate_classifier_dev_v2/images/factory_images_annotated\"\n",
    "    #\"C:/Users/josep/Documents/work/crate_classifier_dev_v2/images/img_3_sample_train\"\n",
    "    if PKG_1_PARAMS is None:\n",
    "        PKG_1_PARAMS = load_json(\"pkg_1_config.json\")\n",
    "\n",
    "    # pkg_1a\n",
    "    img_paths, ann_paths = pkg_1a.main(PKG_1_PARAMS)\n",
    "    # pkg_1b\n",
    "    image_db, annot_db = sort_by_class(img_paths, ann_paths, PKG_1_PARAMS)\n",
    "\n",
    "    return image_db, annot_db"
   ]
  },
  {
   "cell_type": "code",
   "execution_count": null,
   "metadata": {},
   "outputs": [],
   "source": [
    "if __name__ == \"__main__\":\n",
    "    image_db, annot_db = main()\n",
    "    print(\"img_paths['class_1'] sample:\\n\", image_db[\"class_1\"][:4])\n",
    "    print(\"ann_paths['class_1'] sample:\\n\", annot_db[\"class_1\"][:4])"
   ]
  },
  {
   "cell_type": "code",
   "execution_count": null,
   "metadata": {},
   "outputs": [],
   "source": []
  }
 ]
}