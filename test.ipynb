{
 "metadata": {
  "language_info": {
   "codemirror_mode": {
    "name": "ipython",
    "version": 3
   },
   "file_extension": ".py",
   "mimetype": "text/x-python",
   "name": "python",
   "nbconvert_exporter": "python",
   "pygments_lexer": "ipython3",
   "version": 3
  },
  "orig_nbformat": 2,
  "kernelspec": {
   "name": "python_defaultSpec_1596546905915",
   "display_name": "Python 3.7.7 64-bit ('tf21': conda)"
  }
 },
 "nbformat": 4,
 "nbformat_minor": 2,
 "cells": [
  {
   "cell_type": "code",
   "execution_count": 1,
   "metadata": {},
   "outputs": [],
   "source": [
    "# Importing modules\n",
    "import numpy as np\n",
    "from data_loader import load_npy\n",
    "import matplotlib.pyplot as plt\n",
    "from pathlib import Path\n",
    "\n",
    "# Local Modules\n",
    "import augmentation\n",
    "from utilities import read_image, write_image"
   ]
  },
  {
   "cell_type": "code",
   "execution_count": 2,
   "metadata": {},
   "outputs": [],
   "source": [
    "IMAGE_PATH = Path(\"images/images_1\")\n",
    "NUM_EXP = 3"
   ]
  },
  {
   "cell_type": "code",
   "execution_count": 3,
   "metadata": {
    "tags": []
   },
   "outputs": [
    {
     "output_type": "stream",
     "name": "stdout",
     "text": "Found 14 images @ 3 exposures\n"
    }
   ],
   "source": [
    "BMP_FILES = list(IMAGE_PATH.glob(\"**/*.bmp\"))\n",
    "\n",
    "try:\n",
    "    len(BMP_FILES) != 0\n",
    "    len(BMP_FILES) % NUM_EXP == 0\n",
    "    NUM_IMG = int(len(BMP_FILES) / NUM_EXP)\n",
    "    print(f\"Found {NUM_IMG} images @ {NUM_EXP} exposures\")\n",
    "except expression as identifier:\n",
    "    print(\"Image for each exposure not present; Check dataset\")"
   ]
  },
  {
   "cell_type": "code",
   "execution_count": 4,
   "metadata": {},
   "outputs": [],
   "source": [
    "init_img = read_image(BMP_FILES[0])\n",
    "init_h = init_img.shape[0] \n",
    "init_w = init_img.shape[1]\n",
    "image_arr = np.zeros([NUM_IMG, init_h, init_w, NUM_EXP*3], dtype=np.float32)"
   ]
  },
  {
   "cell_type": "code",
   "execution_count": 5,
   "metadata": {
    "tags": []
   },
   "outputs": [],
   "source": [
    "k = 0\n",
    "for i in range(NUM_IMG):\n",
    "    for j in range(NUM_EXP):\n",
    "        src = read_image(BMP_FILES[k])\n",
    "        image_arr[i, :, :, j*NUM_EXP : (j+1)*NUM_EXP] = src\n",
    "        k += 1"
   ]
  },
  {
   "cell_type": "code",
   "execution_count": null,
   "metadata": {},
   "outputs": [],
   "source": []
  },
  {
   "cell_type": "code",
   "execution_count": null,
   "metadata": {},
   "outputs": [],
   "source": []
  }
 ]
}