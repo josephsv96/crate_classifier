{
 "metadata": {
  "language_info": {
   "codemirror_mode": {
    "name": "ipython",
    "version": 3
   },
   "file_extension": ".py",
   "mimetype": "text/x-python",
   "name": "python",
   "nbconvert_exporter": "python",
   "pygments_lexer": "ipython3",
   "version": "3.7.7-final"
  },
  "orig_nbformat": 2,
  "kernelspec": {
   "name": "python_defaultSpec_1599569623990",
   "display_name": "Python 3.7.7 64-bit ('tf21': conda)"
  }
 },
 "nbformat": 4,
 "nbformat_minor": 2,
 "cells": [
  {
   "cell_type": "code",
   "execution_count": 1,
   "metadata": {},
   "outputs": [],
   "source": [
    "#from models.model_vgg16_24k import CrateNet\n",
    "#from models.model_resnet18_34k import CrateNet\n",
    "#from models.model_densenet21_48k import CrateNet\n",
    "from models.model_14k import CrateNet"
   ]
  },
  {
   "cell_type": "code",
   "execution_count": 5,
   "metadata": {
    "tags": []
   },
   "outputs": [
    {
     "output_type": "stream",
     "name": "stdout",
     "text": "stack 1\nstack 2\nstack 3\nstack 4\n"
    }
   ],
   "source": [
    "#model = CrateNet.build(128, 128, 1, 2, 1, 0.1, 100)\n",
    "#model = CrateNet.build(128, 128, 3, 2, 3, 0.1, 100)\n",
    "model = CrateNet.build(128, 128, 3, 20, 3, 0.1,100)"
   ]
  },
  {
   "cell_type": "code",
   "execution_count": 6,
   "metadata": {
    "tags": []
   },
   "outputs": [
    {
     "output_type": "stream",
     "name": "stdout",
     "text": "Num. of parameters: 14k\n"
    }
   ],
   "source": [
    "print(f\"Num. of parameters: {int(model.count_params()/1000)}k\")"
   ]
  },
  {
   "cell_type": "code",
   "execution_count": 4,
   "metadata": {
    "tags": []
   },
   "outputs": [],
   "source": [
    "#model.summary()"
   ]
  },
  {
   "cell_type": "code",
   "execution_count": null,
   "metadata": {},
   "outputs": [],
   "source": []
  }
 ]
}